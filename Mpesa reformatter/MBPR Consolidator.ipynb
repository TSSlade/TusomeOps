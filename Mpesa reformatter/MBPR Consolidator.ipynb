{
 "cells": [
  {
   "cell_type": "code",
   "execution_count": 1,
   "metadata": {},
   "outputs": [],
   "source": [
    "import re\n",
    "import os\n",
    "import sys\n",
    "import datetime\n",
    "import csv\n",
    "import pandas as pd\n",
    "import numpy as np\n",
    "import datetime as dt\n",
    "from dateutil.parser import parse"
   ]
  },
  {
   "cell_type": "code",
   "execution_count": 2,
   "metadata": {},
   "outputs": [],
   "source": [
    "os.curdir\n",
    "# os.chdir(\"C:/Dropbox/Berkeley MIDS/MIDS+/Tusome/TusomeOps/Mpesa reformatter\")\n",
    "# os.curdir\n",
    "os.chdir(\"C:/Dropbox/Berkeley MIDS/MIDS+/Tusome/TusomeOps/Mpesa reformatter\")"
   ]
  },
  {
   "cell_type": "code",
   "execution_count": 3,
   "metadata": {},
   "outputs": [],
   "source": [
    "bulk_plan = pd.read_csv(\"M-pesa bulk payment.csv\", sep = \",\", skiprows = 3, nrows = 1, usecols = [\"Bulk Plan Name\", \"Bulk Plan Description\"])\n",
    "bulk_plan_dets = bulk_plan.iloc[0,0] + \"-\" + bulk_plan.iloc[0,1]"
   ]
  },
  {
   "cell_type": "code",
   "execution_count": 4,
   "metadata": {},
   "outputs": [],
   "source": [
    "columns = [\"Record No\", \"Validation Result\", \"Transaction Timestamp\", \"Finished Timestamp\", \"TransactionID\",\n",
    "           \"Transaction Details\", \" Amount \", \"Fee Charge\", \"Extra Fee Charge\", \"Status\", \"Error Code\", \"Error Message\"]\n",
    "df = pd.DataFrame(pd.read_csv(\"M-pesa bulk payment.csv\", sep = \",\", header=12,\n",
    "                              usecols = columns, index_col = \"Record No\",\n",
    "                             parse_dates = [\"Transaction Timestamp\"]))"
   ]
  },
  {
   "cell_type": "code",
   "execution_count": 5,
   "metadata": {},
   "outputs": [
    {
     "data": {
      "text/plain": [
       "Index(['val_result', 'trans_time', 'finished_time', 'trans_id', 'trans_det',\n",
       "       'amt_sent', 'fee_1', 'fee_2', 'status', 'err_code', 'err_msg'],\n",
       "      dtype='object')"
      ]
     },
     "execution_count": 5,
     "metadata": {},
     "output_type": "execute_result"
    }
   ],
   "source": [
    "cols_corrected = {\"Record No\": \"record_num\", \"Validation Result\": \"val_result\", \"Transaction Timestamp\": \"trans_time\",\n",
    "                  \"Finished Timestamp\": \"finished_time\", \"TransactionID\": \"trans_id\", \n",
    "                  \"Transaction Details\": \"trans_det\", \" Amount \" : \"amt_sent\", \"Fee Charge\" : \"fee_1\",\n",
    "                  \"Extra Fee Charge\" : \"fee_2\", \"Status\" : \"status\", \"Error Code\" : \"err_code\", \"Error Message\" : \"err_msg\"}\n",
    "# df.columns.rename([v for k,v in cols_corrected.items()], inplace = True)\n",
    "df.rename(columns = cols_corrected, inplace = True)\n",
    "df.columns"
   ]
  },
  {
   "cell_type": "code",
   "execution_count": 6,
   "metadata": {},
   "outputs": [
    {
     "data": {
      "text/plain": [
       "Record No\n",
       " 1.0     15042018 20:59:48\n",
       " 2.0     15042018 20:59:48\n",
       " 3.0     15042018 20:59:48\n",
       " 4.0     15042018 20:59:48\n",
       " 5.0     15042018 20:59:48\n",
       " 6.0     15042018 20:59:49\n",
       " 7.0     15042018 20:59:49\n",
       " 8.0     15042018 20:59:49\n",
       " 9.0     15042018 20:59:49\n",
       " 10.0    15042018 20:59:49\n",
       " 11.0    15042018 20:59:50\n",
       " 12.0    15042018 20:59:50\n",
       " 13.0    15042018 20:59:50\n",
       " 14.0    15042018 20:59:50\n",
       " 15.0    15042018 20:59:50\n",
       " 16.0    15042018 20:59:51\n",
       " 17.0    15042018 20:59:51\n",
       " 18.0    15042018 20:59:51\n",
       " 19.0    15042018 20:59:51\n",
       " 20.0    15042018 20:59:51\n",
       " 21.0    15042018 20:59:52\n",
       " 22.0    15042018 20:59:52\n",
       " 23.0    15042018 20:59:52\n",
       " 24.0    15042018 20:59:52\n",
       " 25.0    15042018 20:59:52\n",
       " 26.0    15042018 20:59:53\n",
       " 27.0    15042018 20:59:53\n",
       " 28.0    15042018 20:59:53\n",
       " 29.0    15042018 20:59:53\n",
       " 30.0    15042018 20:59:53\n",
       "               ...        \n",
       " 59.0    15042018 20:59:59\n",
       " 60.0    15042018 20:59:59\n",
       " 61.0    15042018 21:00:00\n",
       " 62.0    15042018 21:00:00\n",
       " 63.0    15042018 21:00:00\n",
       " 64.0    15042018 21:00:00\n",
       " 65.0    15042018 21:00:00\n",
       " 66.0    15042018 21:00:01\n",
       " 67.0    15042018 21:00:01\n",
       " 68.0    15042018 21:00:01\n",
       " 69.0    15042018 21:00:01\n",
       " 70.0    15042018 21:00:01\n",
       " 71.0    15042018 21:00:02\n",
       " 72.0    15042018 21:00:02\n",
       " 73.0    15042018 21:00:02\n",
       " 74.0    15042018 21:00:02\n",
       " 75.0    15042018 21:00:02\n",
       " 76.0    15042018 21:00:03\n",
       " 77.0    15042018 21:00:03\n",
       " 78.0    15042018 21:00:03\n",
       " 79.0    15042018 21:00:03\n",
       " 80.0    15042018 21:00:03\n",
       " 81.0    15042018 21:00:04\n",
       " 82.0    15042018 21:00:04\n",
       " 83.0    15042018 21:00:04\n",
       " 84.0    15042018 21:00:04\n",
       " 85.0    15042018 21:00:04\n",
       " 86.0    15042018 21:00:05\n",
       " 87.0    15042018 21:00:05\n",
       "NaN                    nan\n",
       "Name: trans_time, Length: 88, dtype: object"
      ]
     },
     "execution_count": 6,
     "metadata": {},
     "output_type": "execute_result"
    }
   ],
   "source": [
    "df[\"trans_time\"]"
   ]
  },
  {
   "cell_type": "code",
   "execution_count": 7,
   "metadata": {},
   "outputs": [],
   "source": [
    "df = df.loc[df.index.dropna()]"
   ]
  },
  {
   "cell_type": "code",
   "execution_count": 8,
   "metadata": {},
   "outputs": [
    {
     "data": {
      "text/plain": [
       "str"
      ]
     },
     "execution_count": 8,
     "metadata": {},
     "output_type": "execute_result"
    }
   ],
   "source": [
    "type(df.trans_time[1])"
   ]
  },
  {
   "cell_type": "code",
   "execution_count": 9,
   "metadata": {},
   "outputs": [],
   "source": [
    "def convert(datestr):\n",
    "#     year = int(datestr[4:8])\n",
    "#     month = int(datestr[2:4])\n",
    "#     day = int(datestr[0:2])\n",
    "#     hour = int(datestr[9:11])\n",
    "#     minute = int(datestr[12:14])\n",
    "#     second = int(datestr[15:17])\n",
    "    converted = dt.datetime.strptime(str(datestr),\"%d%m%Y %H:%M:%S\")\n",
    "#    converted = pd.to_datetime(str(datestr), format=\"%d%m%Y %H:%M:%S\", errors=\"raise\")\n",
    "    return converted\n",
    "\n",
    "df.finished_time = df.finished_time.apply(convert)\n",
    "df.trans_time = df.trans_time.apply(convert)"
   ]
  },
  {
   "cell_type": "code",
   "execution_count": 10,
   "metadata": {},
   "outputs": [
    {
     "data": {
      "text/plain": [
       "Record No\n",
       "1.0    2018-04-15 20:59:48\n",
       "2.0    2018-04-15 20:59:48\n",
       "3.0    2018-04-15 20:59:48\n",
       "4.0    2018-04-15 20:59:48\n",
       "5.0    2018-04-15 20:59:48\n",
       "6.0    2018-04-15 20:59:49\n",
       "7.0    2018-04-15 20:59:49\n",
       "8.0    2018-04-15 20:59:49\n",
       "9.0    2018-04-15 20:59:49\n",
       "10.0   2018-04-15 20:59:49\n",
       "11.0   2018-04-15 20:59:50\n",
       "12.0   2018-04-15 20:59:50\n",
       "13.0   2018-04-15 20:59:50\n",
       "14.0   2018-04-15 20:59:50\n",
       "15.0   2018-04-15 20:59:50\n",
       "16.0   2018-04-15 20:59:51\n",
       "17.0   2018-04-15 20:59:51\n",
       "18.0   2018-04-15 20:59:51\n",
       "19.0   2018-04-15 20:59:51\n",
       "20.0   2018-04-15 20:59:51\n",
       "21.0   2018-04-15 20:59:52\n",
       "22.0   2018-04-15 20:59:52\n",
       "23.0   2018-04-15 20:59:52\n",
       "24.0   2018-04-15 20:59:52\n",
       "25.0   2018-04-15 20:59:52\n",
       "26.0   2018-04-15 20:59:53\n",
       "27.0   2018-04-15 20:59:53\n",
       "28.0   2018-04-15 20:59:53\n",
       "29.0   2018-04-15 20:59:53\n",
       "30.0   2018-04-15 20:59:53\n",
       "               ...        \n",
       "58.0   2018-04-15 20:59:59\n",
       "59.0   2018-04-15 20:59:59\n",
       "60.0   2018-04-15 20:59:59\n",
       "61.0   2018-04-15 21:00:00\n",
       "62.0   2018-04-15 21:00:00\n",
       "63.0   2018-04-15 21:00:00\n",
       "64.0   2018-04-15 21:00:00\n",
       "65.0   2018-04-15 21:00:00\n",
       "66.0   2018-04-15 21:00:01\n",
       "67.0   2018-04-15 21:00:01\n",
       "68.0   2018-04-15 21:00:01\n",
       "69.0   2018-04-15 21:00:01\n",
       "70.0   2018-04-15 21:00:01\n",
       "71.0   2018-04-15 21:00:02\n",
       "72.0   2018-04-15 21:00:02\n",
       "73.0   2018-04-15 21:00:02\n",
       "74.0   2018-04-15 21:00:02\n",
       "75.0   2018-04-15 21:00:02\n",
       "76.0   2018-04-15 21:00:03\n",
       "77.0   2018-04-15 21:00:03\n",
       "78.0   2018-04-15 21:00:03\n",
       "79.0   2018-04-15 21:00:03\n",
       "80.0   2018-04-15 21:00:03\n",
       "81.0   2018-04-15 21:00:04\n",
       "82.0   2018-04-15 21:00:04\n",
       "83.0   2018-04-15 21:00:04\n",
       "84.0   2018-04-15 21:00:04\n",
       "85.0   2018-04-15 21:00:04\n",
       "86.0   2018-04-15 21:00:05\n",
       "87.0   2018-04-15 21:00:05\n",
       "Name: finished_time, Length: 87, dtype: datetime64[ns]"
      ]
     },
     "execution_count": 10,
     "metadata": {},
     "output_type": "execute_result"
    }
   ],
   "source": [
    "df.finished_time"
   ]
  },
  {
   "cell_type": "code",
   "execution_count": 11,
   "metadata": {},
   "outputs": [],
   "source": [
    "df[\"year\"] = df.finished_time.dt.year"
   ]
  },
  {
   "cell_type": "code",
   "execution_count": 12,
   "metadata": {},
   "outputs": [
    {
     "data": {
      "text/plain": [
       "2018"
      ]
     },
     "execution_count": 12,
     "metadata": {},
     "output_type": "execute_result"
    }
   ],
   "source": [
    "df.year[1]"
   ]
  },
  {
   "cell_type": "code",
   "execution_count": 13,
   "metadata": {},
   "outputs": [
    {
     "data": {
      "text/plain": [
       "Index(['trans_id', 'finished_time', 'trans_det', 'status', 'amt_sent', 'fee_1',\n",
       "       'fee_2', 'val_result', 'trans_time', 'err_code', 'err_msg'],\n",
       "      dtype='object')"
      ]
     },
     "execution_count": 13,
     "metadata": {},
     "output_type": "execute_result"
    }
   ],
   "source": [
    "df=df[[\"trans_id\", \"finished_time\", \"trans_det\", \"status\", \"amt_sent\", \"fee_1\", \"fee_2\", \"val_result\", \"trans_time\", \n",
    "        \"err_code\", \"err_msg\"]]\n",
    "df.columns"
   ]
  },
  {
   "cell_type": "code",
   "execution_count": 14,
   "metadata": {},
   "outputs": [],
   "source": [
    "df.trans_id = df.trans_id.str[4:7]"
   ]
  },
  {
   "cell_type": "code",
   "execution_count": 15,
   "metadata": {},
   "outputs": [],
   "source": [
    "df[\"bulk_plan_dets\"] = bulk_plan_dets"
   ]
  },
  {
   "cell_type": "code",
   "execution_count": 16,
   "metadata": {},
   "outputs": [],
   "source": [
    "df = df[df.status==\"Completed\"]"
   ]
  },
  {
   "cell_type": "code",
   "execution_count": 24,
   "metadata": {},
   "outputs": [],
   "source": [
    "row_ct = len(df.finished_time)\n",
    "year = str(df.finished_time.dt.year[row_ct])\n",
    "month = \"0\" + str(df.finished_time.dt.month[row_ct]) if len(str(df.finished_time.dt.month[row_ct]))==1 else df.finished_time.dt.month[row_ct]\n",
    "day = \"0\" + str(df.finished_time.dt.day[row_ct]) if len(str(df.finished_time.dt.day[row_ct]))==1 else df.finished_time.dt.day[row_ct]\n",
    "# filename = str(\"-\".join([str(df.finished_time.dt.year[row_ct]),\n",
    "#                         str(df.finished_time.dt.month[row_ct]),\n",
    "#                         str(df.finished_time.dt.day[row_ct])]))"
   ]
  },
  {
   "cell_type": "code",
   "execution_count": 25,
   "metadata": {},
   "outputs": [
    {
     "data": {
      "text/plain": [
       "(2018, '04', 15)"
      ]
     },
     "execution_count": 25,
     "metadata": {},
     "output_type": "execute_result"
    }
   ],
   "source": [
    "year, month, day"
   ]
  },
  {
   "cell_type": "code",
   "execution_count": 21,
   "metadata": {},
   "outputs": [
    {
     "data": {
      "text/plain": [
       "4"
      ]
     },
     "execution_count": 21,
     "metadata": {},
     "output_type": "execute_result"
    }
   ],
   "source": [
    "df.finished_time.dt.month[1]"
   ]
  },
  {
   "cell_type": "code",
   "execution_count": 32,
   "metadata": {},
   "outputs": [],
   "source": [
    "# record = df.finished_time[1]\n",
    "filename = str(df.finished_time.dt.year[1])+str(df.finished_time.dt.month[1])+str(df.finished_time.dt.day[1])\n",
    "# pd.DataFrame.to_csv(df, filename)"
   ]
  },
  {
   "cell_type": "code",
   "execution_count": 36,
   "metadata": {},
   "outputs": [],
   "source": [
    "filename = year + month + day + \"-\" + df.trans_id[row_ct] + \".csv\"\n",
    "# year, month, day"
   ]
  },
  {
   "cell_type": "code",
   "execution_count": 37,
   "metadata": {},
   "outputs": [
    {
     "data": {
      "text/plain": [
       "'20180415-USI.csv'"
      ]
     },
     "execution_count": 37,
     "metadata": {},
     "output_type": "execute_result"
    }
   ],
   "source": [
    "filename"
   ]
  },
  {
   "cell_type": "code",
   "execution_count": null,
   "metadata": {},
   "outputs": [],
   "source": [
    "df.finished_time = pd.to_datetime(df.finished_time, infer_datetime_format=True)"
   ]
  },
  {
   "cell_type": "code",
   "execution_count": null,
   "metadata": {},
   "outputs": [],
   "source": [
    "type(df.finished_time[1])"
   ]
  },
  {
   "cell_type": "code",
   "execution_count": 34,
   "metadata": {},
   "outputs": [],
   "source": [
    "test = pd.DataFrame({'year': [2015, 2016],\n",
    "                       'month': [2, 3],\n",
    "                       'day': [4, 5]})"
   ]
  },
  {
   "cell_type": "code",
   "execution_count": 38,
   "metadata": {},
   "outputs": [],
   "source": [
    "test = pd.to_datetime(test)"
   ]
  },
  {
   "cell_type": "code",
   "execution_count": 39,
   "metadata": {},
   "outputs": [],
   "source": []
  },
  {
   "cell_type": "code",
   "execution_count": null,
   "metadata": {},
   "outputs": [],
   "source": []
  },
  {
   "cell_type": "code",
   "execution_count": 34,
   "metadata": {},
   "outputs": [],
   "source": [
    "year = str(df.finished_time.dt.year[row_ct])\n",
    "month = \"0\" + str(df.finished_time.dt.month[row_ct]) if (\n",
    "            len(str(df.finished_time.dt.month[row_ct]))==1) else (\n",
    "            str(df.finished_time.dt.month[row_ct]))\n",
    "day = \"0\" + str(df.finished_time.dt.day[row_ct]) if (\n",
    "            len(str(df.finished_time.dt.day[row_ct]))==1) else (\n",
    "            str(df.finished_time.dt.day[row_ct]))"
   ]
  },
  {
   "cell_type": "code",
   "execution_count": null,
   "metadata": {},
   "outputs": [],
   "source": [
    "!python mpesa_reformatter.py"
   ]
  },
  {
   "cell_type": "code",
   "execution_count": null,
   "metadata": {},
   "outputs": [],
   "source": []
  }
 ],
 "metadata": {
  "kernelspec": {
   "display_name": "Python 3",
   "language": "python",
   "name": "python3"
  },
  "language_info": {
   "codemirror_mode": {
    "name": "ipython",
    "version": 3
   },
   "file_extension": ".py",
   "mimetype": "text/x-python",
   "name": "python",
   "nbconvert_exporter": "python",
   "pygments_lexer": "ipython3",
   "version": "3.6.3"
  }
 },
 "nbformat": 4,
 "nbformat_minor": 2
}
